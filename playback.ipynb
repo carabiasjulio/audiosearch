{
 "cells": [
  {
   "cell_type": "code",
   "execution_count": 24,
   "metadata": {
    "collapsed": true
   },
   "outputs": [],
   "source": [
    "import wave\n",
    "import pyaudio\n",
    "import scikits.audiolab as al"
   ]
  },
  {
   "cell_type": "code",
   "execution_count": 26,
   "metadata": {
    "collapsed": true
   },
   "outputs": [],
   "source": [
    "import random\n",
    "import os\n",
    "data_dir = '/home/mzhan/audiosearch/data/UrbanSound8K/audio' \n",
    "metadata_path = '/home/mzhan/audiosearch/data/UrbanSound8K/metadata/UrbanSound8K_by_fold.csv'\n",
    "feature_path = '/home/mzhan/audiosearch/data/UrbanSound8K/features2.npy'"
   ]
  },
  {
   "cell_type": "code",
   "execution_count": 30,
   "metadata": {
    "collapsed": true
   },
   "outputs": [],
   "source": [
    "def play_wave(fname):\n",
    "    #define stream chunk   \n",
    "    chunk = 1024  \n",
    "\n",
    "    #open a wav format music  \n",
    "    f = al.Sndfile(fname)\n",
    "\n",
    "    #f = wave.open(fname,\"rb\")  \n",
    "    #instantiate PyAudio  \n",
    "    p = pyaudio.PyAudio()  \n",
    "    #open stream  \n",
    "    stream = p.open(format = p.get_format_from_width(f.getsampwidth()),  \n",
    "                    channels = f.channels(),  \n",
    "                    rate = f.samplerate(),  \n",
    "                    output = True)  \n",
    "    #read data  \n",
    "    data = f.readframes(chunk)  \n",
    "\n",
    "    #paly stream  \n",
    "    while data != '':  \n",
    "        stream.write(data)  \n",
    "        data = f.readframes(chunk)  \n",
    "\n",
    "    #stop stream  \n",
    "    stream.stop_stream()  \n",
    "    stream.close()  \n",
    "\n",
    "    #close PyAudio  \n",
    "    p.terminate()  \n",
    "        \n",
    "def random_audio_file():\n",
    "    fold = random.choice(os.listdir(data_dir))\n",
    "    if fold[:4]!='fold':\n",
    "        return random_audio_file()\n",
    "    fname = random.choice(os.listdir(os.path.join(data_dir, fold)))\n",
    "    return os.path.join(data_dir, fold, fname)\n"
   ]
  },
  {
   "cell_type": "code",
   "execution_count": 17,
   "metadata": {
    "collapsed": false
   },
   "outputs": [],
   "source": [
    "import soundfile as sf\n",
    "import sounddevice as sd\n",
    "import time"
   ]
  },
  {
   "cell_type": "code",
   "execution_count": 36,
   "metadata": {
    "collapsed": false
   },
   "outputs": [],
   "source": [
    "data, fs = sf.read(f)\n",
    "sd.play(data, fs)\n",
    "time.sleep(1)\n",
    "data, fs = sf.read(random_audio_file())\n",
    "sd.play(data, fs)"
   ]
  },
  {
   "cell_type": "code",
   "execution_count": 37,
   "metadata": {
    "collapsed": false
   },
   "outputs": [
    {
     "data": {
      "text/plain": [
       "<sounddevice.CallbackFlags: output underflow>"
      ]
     },
     "execution_count": 37,
     "metadata": {},
     "output_type": "execute_result"
    }
   ],
   "source": [
    "sd."
   ]
  },
  {
   "cell_type": "code",
   "execution_count": null,
   "metadata": {
    "collapsed": true
   },
   "outputs": [],
   "source": []
  }
 ],
 "metadata": {
  "kernelspec": {
   "display_name": "Python 2",
   "language": "python",
   "name": "python2"
  },
  "language_info": {
   "codemirror_mode": {
    "name": "ipython",
    "version": 2
   },
   "file_extension": ".py",
   "mimetype": "text/x-python",
   "name": "python",
   "nbconvert_exporter": "python",
   "pygments_lexer": "ipython2",
   "version": "2.7.6"
  }
 },
 "nbformat": 4,
 "nbformat_minor": 0
}
