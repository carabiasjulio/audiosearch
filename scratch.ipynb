{
 "cells": [
  {
   "cell_type": "code",
   "execution_count": 1,
   "metadata": {
    "collapsed": false
   },
   "outputs": [
    {
     "name": "stderr",
     "output_type": "stream",
     "text": [
      "/usr/local/lib/python2.7/dist-packages/scikits.audiolab-0.11.0-py2.7-linux-x86_64.egg/scikits/audiolab/soundio/play.py:48: UserWarning: Could not import alsa backend; most probably, you did not have alsa headers when building audiolab\n",
      "  warnings.warn(\"Could not import alsa backend; most probably, \"\n"
     ]
    }
   ],
   "source": [
    "from matplotlib import pyplot as pl\n",
    "from scipy import signal \n",
    "import scikits.audiolab as audiolab\n",
    "import matplotlib.pyplot as pl\n",
    "import os\n",
    "import numpy as np\n",
    "import csv\n",
    "import VectorQuantizer as vq\n",
    "import HartiganOnline as hartigan\n",
    "import spectrogram\n",
    "\n",
    "\n",
    "\n",
    "data_dir = '/home/mzhan/audiosearch/data/UrbanSound8K/audio' \n",
    "metadata_path = '/home/mzhan/audiosearch/data/UrbanSound8K/metadata/UrbanSound8K_by_fold.csv'\n",
    "\n",
    "errorfiles = []\n",
    "def data_gen(verbose=False):\n",
    "    \"\"\" \n",
    "    Generate spectrogram for each audio file (in log amplitude). \n",
    "    Yields numpy array of shape (n,d) where n is number of windows (number of frames in file) and \n",
    "    d is STFT resolution (frame dimension).\n",
    "    \"\"\"\n",
    "    SR = 44100   # standard sampling rate\n",
    "    with open(metadata_path, 'rb') as fmeta:\n",
    "        meta = csv.reader(fmeta, delimiter=',')\n",
    "        meta.next()   # skip header\n",
    "        for line in meta:\n",
    "            fname, fsID, start, end, salience, fold, classID, className = line\n",
    "            if verbose:\n",
    "                print fname, fold\n",
    "            try: \n",
    "                s = audiolab.Sndfile(os.path.join(data_dir, 'fold'+str(fold), fname))\n",
    "                w = s.read_frames(s.nframes)    # bitdepth: float in range [-1,1]\n",
    "                if len(w.shape)>1:\n",
    "                    w = w[:,0]    # take the first channel when multiple are present  \n",
    "                if s.samplerate==SR:\n",
    "                    resampled = w\n",
    "                else:\n",
    "                    resampled = signal.resample(w, 1.*s.nframes/s.samplerate*SR)   # unify sample rates\n",
    "                frameSize = SR*0.02   # frame duration = 20ms\n",
    "                S = spectrogram.stft(resampled, frameSize)\n",
    "                yield np.log(np.abs(S))\n",
    "            except:\n",
    "                errorfiles.append((fold, fname))   # ignore files that can't be opened by wave package\n",
    "\n",
    "                \n",
    "def file_iter():\n",
    "    with open(metadata_path, 'rb') as fmeta:\n",
    "        meta = csv.reader(fmeta, delimiter=',')\n",
    "        meta.next()   # skip header\n",
    "        for line in meta:\n",
    "            fname, fsID, start, end, salience, fold, classID, className = line\n",
    "            yield fname, fold\n",
    "            \n",
    "def snd_gen(verbose=False):\n",
    "    \"\"\" \n",
    "    Generate audio files as audiolab.Sndfile classes\n",
    "    \"\"\"\n",
    "    with open(metadata_path, 'rb') as fmeta:\n",
    "        meta = csv.reader(fmeta, delimiter=',')\n",
    "        meta.next()   # skip header\n",
    "        for line in meta:\n",
    "            fname, fsID, start, end, salience, fold, classID, className = line\n",
    "            if verbose:\n",
    "                print fname, fold\n",
    "            try: \n",
    "                s = audiolab.Sndfile(os.path.join(data_dir, 'fold'+str(fold), fname))\n",
    "                yield s\n",
    "            except:\n",
    "                errorfiles.append((fold, fname))   # ignore files that can't be opened by wave package\n",
    "\n",
    "                "
   ]
  },
  {
   "cell_type": "code",
   "execution_count": 2,
   "metadata": {
    "collapsed": false
   },
   "outputs": [
    {
     "data": {
      "text/plain": [
       "8732"
      ]
     },
     "execution_count": 2,
     "metadata": {},
     "output_type": "execute_result"
    }
   ],
   "source": [
    "fall = [f for f in file_iter()]\n",
    "len(fall)"
   ]
  },
  {
   "cell_type": "markdown",
   "metadata": {},
   "source": [
    "Resample all audio files to sample rate = 44100"
   ]
  },
  {
   "cell_type": "code",
   "execution_count": null,
   "metadata": {
    "collapsed": true
   },
   "outputs": [],
   "source": [
    "g = snd_gen()\n",
    "SR = 44100\n",
    "for s in g:\n",
    "    "
   ]
  }
 ],
 "metadata": {
  "kernelspec": {
   "display_name": "Python 2",
   "language": "python",
   "name": "python2"
  },
  "language_info": {
   "codemirror_mode": {
    "name": "ipython",
    "version": 2
   },
   "file_extension": ".py",
   "mimetype": "text/x-python",
   "name": "python",
   "nbconvert_exporter": "python",
   "pygments_lexer": "ipython2",
   "version": "2.7.6"
  }
 },
 "nbformat": 4,
 "nbformat_minor": 0
}
