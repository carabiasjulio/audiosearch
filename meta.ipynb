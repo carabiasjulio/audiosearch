{
 "cells": [
  {
   "cell_type": "code",
   "execution_count": 2,
   "metadata": {
    "collapsed": false
   },
   "outputs": [],
   "source": [
    "from matplotlib import pyplot as pl\n",
    "from scipy import signal \n",
    "import matplotlib.pyplot as pl\n",
    "import os\n",
    "import numpy as np\n",
    "import csv\n",
    "\n",
    "\n",
    "%matplotlib inline\n",
    "\n",
    "data_dir = '/home/mzhan/audiosearch/data/UrbanSound8K/audio' \n",
    "metadata_path = '/home/mzhan/audiosearch/data/UrbanSound8K/metadata/UrbanSound8K_by_fold.csv'"
   ]
  },
  {
   "cell_type": "code",
   "execution_count": null,
   "metadata": {
    "collapsed": true
   },
   "outputs": [],
   "source": []
  },
  {
   "cell_type": "code",
   "execution_count": 4,
   "metadata": {
    "collapsed": false
   },
   "outputs": [],
   "source": [
    "errorfiles = []\n",
    "def data_gen(verbose=False):\n",
    "    \"\"\" \n",
    "    Generate spectrogram for each audio file (in log amplitude). \n",
    "    Yields numpy array of shape (n,d) where n is number of windows (number of frames in file) and \n",
    "    d is STFT resolution (frame dimension).\n",
    "    \"\"\"\n",
    "    SR = 44100   # standard sampling rate\n",
    "    with open(metadata_path, 'rb') as fmeta:\n",
    "        meta = csv.reader(fmeta, delimiter=',')\n",
    "        meta.next()   # skip header\n",
    "        for line in meta:\n",
    "            fname, fsID, start, end, salience, fold, classID, className = line\n",
    "            if verbose:\n",
    "                print fname, fold\n",
    "            try: \n",
    "                s = audiolab.Sndfile(os.path.join(data_dir, 'fold'+str(fold), fname))\n",
    "                w = s.read_frames(s.nframes)\n",
    "                resampled = signal.resample(w, 1.*s.nframes/s.samplerate*SR)   # resample wave to standard sampling rate\n",
    "                frameSize = SR*0.02   # frame duration = 20ms\n",
    "                if len(w.shape)>1:\n",
    "                    w = w[:,0]    # take the first channel when multiple are present   \n",
    "                S = spectrogram.stft(resampled, frameSize)\n",
    "                yield np.log(np.abs(S))\n",
    "            except:\n",
    "                errorfiles.append((fold, fname))   # ignore files that can't be opened by wave package\n",
    "#    print len(errorfiles)\n",
    "#    print len(set(map(lambda x: str(x[2]), errorfiles)))\n",
    "g = data_gen()\n"
   ]
  },
  {
   "cell_type": "code",
   "execution_count": 275,
   "metadata": {
    "collapsed": false,
    "scrolled": true
   },
   "outputs": [
    {
     "name": "stdout",
     "output_type": "stream",
     "text": [
      "Number of different sample rates 11\n"
     ]
    }
   ],
   "source": [
    "g = snd_gen()\n",
    "samplerates = [s.samplerate for s in g]\n",
    "print \"Number of different sample rates\", len(set(samplerates))"
   ]
  },
  {
   "cell_type": "code",
   "execution_count": 239,
   "metadata": {
    "collapsed": false
   },
   "outputs": [
    {
     "name": "stdout",
     "output_type": "stream",
     "text": [
      "set([48000, 96000, 22050, 44100, 8000, 32000, 11024, 11025, 24000, 192000, 16000])\n"
     ]
    },
    {
     "data": {
      "text/plain": [
       "[2502, 610, 44, 5370, 12, 4, 7, 39, 82, 17, 45]"
      ]
     },
     "execution_count": 239,
     "metadata": {},
     "output_type": "execute_result"
    }
   ],
   "source": [
    "print set(samplerates)\n",
    "[sum(np.array(samplerates)==sr) for sr in set(samplerates)]"
   ]
  },
  {
   "cell_type": "markdown",
   "metadata": {},
   "source": [
    "## Vector quantization on audio frames (kmeans)"
   ]
  },
  {
   "cell_type": "code",
   "execution_count": 5,
   "metadata": {
    "collapsed": false
   },
   "outputs": [],
   "source": [
    "NC = 512\n",
    "quantizer = vq.VectorQuantizer(clusterer=hartigan.HartiganOnline(n_clusters=NC))\n",
    "max_iter = 5\n",
    "centroids = np.zeros((max_iter, 8, NC, 442))"
   ]
  },
  {
   "cell_type": "code",
   "execution_count": 6,
   "metadata": {
    "collapsed": false
   },
   "outputs": [
    {
     "name": "stdout",
     "output_type": "stream",
     "text": [
      "iteration 1\n",
      "50 files processed\n",
      "100 files processed\n",
      "150 files processed\n",
      "200 files processed\n",
      "250 files processed\n",
      "300 files processed\n",
      "350 files processed\n",
      "400 files processed\n",
      "450 files processed\n",
      "500 files processed\n",
      "550 files processed\n",
      "600 files processed\n",
      "650 files processed\n",
      "700 files processed\n",
      "750 files processed\n",
      "800 files processed\n",
      "850 files processed\n",
      "900 files processed\n",
      "950 files processed\n",
      "1000 files processed\n",
      "1050 files processed\n",
      "1100 files processed\n",
      "1150 files processed\n",
      "1200 files processed\n",
      "1250 files processed\n",
      "1300 files processed\n",
      "1350 files processed\n",
      "1400 files processed\n",
      "1450 files processed\n",
      "1500 files processed\n",
      "1550 files processed\n",
      "1600 files processed\n",
      "1650 files processed\n",
      "1700 files processed\n",
      "1750 files processed\n",
      "1800 files processed\n",
      "1850 files processed\n",
      "1900 files processed\n",
      "1950 files processed\n",
      "2000 files processed\n",
      "2050 files processed\n",
      "2100 files processed\n",
      "2150 files processed\n",
      "2200 files processed\n",
      "2250 files processed\n",
      "2300 files processed\n",
      "2350 files processed\n",
      "2400 files processed\n",
      "2450 files processed\n",
      "2500 files processed\n",
      "2550 files processed\n",
      "2600 files processed\n",
      "2650 files processed\n",
      "2700 files processed\n",
      "2750 files processed\n",
      "2800 files processed\n",
      "2850 files processed\n",
      "2900 files processed\n",
      "2950 files processed\n",
      "3000 files processed\n",
      "3050 files processed\n",
      "3100 files processed\n",
      "3150 files processed\n",
      "3200 files processed\n",
      "3250 files processed\n",
      "3300 files processed\n",
      "3350 files processed\n",
      "3400 files processed\n",
      "3450 files processed\n",
      "3500 files processed\n",
      "3550 files processed\n",
      "3600 files processed\n",
      "3650 files processed\n",
      "3700 files processed\n",
      "3750 files processed\n",
      "3800 files processed\n",
      "3850 files processed\n",
      "3900 files processed\n",
      "3950 files processed\n",
      "4000 files processed\n",
      "4050 files processed\n",
      "4100 files processed\n",
      "4150 files processed\n",
      "4200 files processed\n",
      "4250 files processed\n",
      "4300 files processed\n",
      "4350 files processed\n",
      "4400 files processed\n",
      "4450 files processed\n",
      "4500 files processed\n",
      "4550 files processed\n",
      "4600 files processed\n",
      "4650 files processed\n",
      "4700 files processed\n",
      "4750 files processed\n",
      "4800 files processed\n",
      "4850 files processed\n",
      "4900 files processed\n",
      "4950 files processed\n",
      "5000 files processed\n",
      "5050 files processed\n",
      "5100 files processed\n",
      "5150 files processed\n",
      "5200 files processed\n",
      "5250 files processed\n",
      "5300 files processed\n",
      "5350 files processed\n",
      "5400 files processed\n",
      "5450 files processed\n",
      "5500 files processed\n",
      "5550 files processed\n",
      "5600 files processed\n",
      "5650 files processed\n",
      "5700 files processed\n",
      "5750 files processed\n",
      "5800 files processed\n",
      "5850 files processed\n",
      "5900 files processed\n",
      "5950 files processed\n",
      "6000 files processed\n",
      "6050 files processed\n",
      "6100 files processed\n",
      "6150 files processed\n",
      "6200 files processed\n",
      "6250 files processed\n",
      "6300 files processed\n",
      "6350 files processed\n",
      "6400 files processed\n",
      "6450 files processed\n",
      "6500 files processed\n",
      "6550 files processed\n",
      "6600 files processed\n",
      "6650 files processed\n",
      "6700 files processed\n",
      "6750 files processed\n",
      "6800 files processed\n",
      "6850 files processed\n",
      "6900 files processed\n",
      "6950 files processed\n",
      "7000 files processed\n",
      "7050 files processed\n",
      "7100 files processed\n",
      "7150 files processed\n",
      "7200 files processed\n",
      "7250 files processed\n",
      "7300 files processed\n",
      "7350 files processed\n",
      "7400 files processed\n",
      "7450 files processed\n",
      "7500 files processed\n",
      "7550 files processed\n",
      "7600 files processed\n",
      "7650 files processed\n",
      "7700 files processed\n",
      "7750 files processed\n",
      "7800 files processed\n",
      "7850 files processed\n",
      "7900 files processed\n",
      "7950 files processed\n",
      "8000 files processed\n",
      "8050 files processed\n",
      "8100 files processed\n",
      "8150 files processed\n",
      "8200 files processed\n",
      "8250 files processed\n",
      "8300 files processed\n",
      "8350 files processed\n",
      "8400 files processed\n",
      "8450 files processed\n",
      "8500 files processed\n",
      "8550 files processed\n",
      "8600 files processed\n",
      "8650 files processed\n",
      "8700 files processed\n"
     ]
    }
   ],
   "source": [
    "i=0\n",
    "print \"iteration\", i+1\n",
    "#g = data_gen()   # reset generator\n",
    "fcount=0\n",
    "for d in g:\n",
    "    #print d.shape\n",
    "    quantizer.partial_fit(d)    \n",
    "    fcount+=1\n",
    "    if not fcount%50:\n",
    "        print fcount, 'files processed'\n",
    "    if fcount>0 and not fcount%1000:\n",
    "        # save centroids\n",
    "        centroids[i, fcount/1000-1] = quantizer.components_\n",
    "        "
   ]
  },
  {
   "cell_type": "code",
   "execution_count": 106,
   "metadata": {
    "collapsed": false
   },
   "outputs": [
    {
     "data": {
      "text/plain": [
       "1.3200181598066004e+19"
      ]
     },
     "execution_count": 106,
     "metadata": {},
     "output_type": "execute_result"
    }
   ],
   "source": [
    "np.var(centroids[1,7])"
   ]
  },
  {
   "cell_type": "code",
   "execution_count": 66,
   "metadata": {
    "collapsed": false
   },
   "outputs": [
    {
     "data": {
      "text/plain": [
       "array([[ 0.,  0.,  0., ...,  0.,  0.,  0.],\n",
       "       [ 0.,  0.,  0., ...,  0.,  0.,  0.],\n",
       "       [ 0.,  0.,  0., ...,  0.,  0.,  0.],\n",
       "       ..., \n",
       "       [ 0.,  0.,  0., ...,  0.,  0.,  0.],\n",
       "       [ 0.,  0.,  0., ...,  0.,  0.,  0.],\n",
       "       [ 0.,  0.,  0., ...,  0.,  0.,  0.]])"
      ]
     },
     "execution_count": 66,
     "metadata": {},
     "output_type": "execute_result"
    }
   ],
   "source": [
    "d = random_audio_file()\n",
    "w = wv.read(d)\n",
    "quantizer.transform(w)"
   ]
  },
  {
   "cell_type": "code",
   "execution_count": 103,
   "metadata": {
    "collapsed": false,
    "scrolled": true
   },
   "outputs": [
    {
     "name": "stdout",
     "output_type": "stream",
     "text": [
      "(512, 513)\n"
     ]
    },
    {
     "data": {
      "text/plain": [
       "<matplotlib.colorbar.Colorbar instance at 0x7f37fe21a5f0>"
      ]
     },
     "execution_count": 103,
     "metadata": {},
     "output_type": "execute_result"
    },
    {
     "data": {
      "image/png": "[encoded data removed]",
      "text/plain": [
       "<matplotlib.figure.Figure at 0x7f37fe023290>"
      ]
     },
     "metadata": {},
     "output_type": "display_data"
    }
   ],
   "source": [
    "print quantizer.components_.shape\n",
    "pl.imshow(np.abs(centroids[1,7,:100,:]).T, aspect='auto', cmap=pl.get_cmap('Blues'))\n",
    "pl.colorbar()"
   ]
  },
  {
   "cell_type": "code",
   "execution_count": 33,
   "metadata": {
    "collapsed": false
   },
   "outputs": [
    {
     "ename": "StopIteration",
     "evalue": "",
     "output_type": "error",
     "traceback": [
      "\u001b[1;31m---------------------------------------------------------------------------\u001b[0m",
      "\u001b[1;31mStopIteration\u001b[0m                             Traceback (most recent call last)",
      "\u001b[1;32m<ipython-input-33-d7e53364a9a7>\u001b[0m in \u001b[0;36m<module>\u001b[1;34m()\u001b[0m\n\u001b[1;32m----> 1\u001b[1;33m \u001b[0mg\u001b[0m\u001b[1;33m.\u001b[0m\u001b[0mnext\u001b[0m\u001b[1;33m(\u001b[0m\u001b[1;33m)\u001b[0m\u001b[1;33m\u001b[0m\u001b[0m\n\u001b[0m",
      "\u001b[1;31mStopIteration\u001b[0m: "
     ]
    }
   ],
   "source": [
    "g.next()"
   ]
  },
  {
   "cell_type": "code",
   "execution_count": 8,
   "metadata": {
    "collapsed": false
   },
   "outputs": [
    {
     "ename": "AttributeError",
     "evalue": "'HartiganOnline' object has no attribute 'cluster_centers_'",
     "output_type": "error",
     "traceback": [
      "\u001b[1;31m---------------------------------------------------------------------------\u001b[0m",
      "\u001b[1;31mAttributeError\u001b[0m                            Traceback (most recent call last)",
      "\u001b[1;32m<ipython-input-8-0aec41b1afd7>\u001b[0m in \u001b[0;36m<module>\u001b[1;34m()\u001b[0m\n\u001b[1;32m----> 1\u001b[1;33m \u001b[0mcentroids\u001b[0m \u001b[1;33m=\u001b[0m \u001b[0mquantizer\u001b[0m\u001b[1;33m.\u001b[0m\u001b[0mcentroids\u001b[0m\u001b[1;33m(\u001b[0m\u001b[1;33m)\u001b[0m\u001b[1;33m\u001b[0m\u001b[0m\n\u001b[0m",
      "\u001b[1;32m/home/mzhan/audiosearch/VectorQuantizer.py\u001b[0m in \u001b[0;36mcentroids\u001b[1;34m(self)\u001b[0m\n\u001b[0;32m     79\u001b[0m \u001b[1;33m\u001b[0m\u001b[0m\n\u001b[0;32m     80\u001b[0m     \u001b[1;32mdef\u001b[0m \u001b[0mcentroids\u001b[0m\u001b[1;33m(\u001b[0m\u001b[0mself\u001b[0m\u001b[1;33m)\u001b[0m\u001b[1;33m:\u001b[0m\u001b[1;33m\u001b[0m\u001b[0m\n\u001b[1;32m---> 81\u001b[1;33m         \u001b[1;32mreturn\u001b[0m \u001b[0mself\u001b[0m\u001b[1;33m.\u001b[0m\u001b[0mclusterer\u001b[0m\u001b[1;33m.\u001b[0m\u001b[0mcluster_centers_\u001b[0m\u001b[1;33m\u001b[0m\u001b[0m\n\u001b[0m\u001b[0;32m     82\u001b[0m \u001b[1;33m\u001b[0m\u001b[0m\n\u001b[0;32m     83\u001b[0m     \u001b[1;32mdef\u001b[0m \u001b[0mtransform\u001b[0m\u001b[1;33m(\u001b[0m\u001b[0mself\u001b[0m\u001b[1;33m,\u001b[0m \u001b[0mX\u001b[0m\u001b[1;33m)\u001b[0m\u001b[1;33m:\u001b[0m\u001b[1;33m\u001b[0m\u001b[0m\n",
      "\u001b[1;31mAttributeError\u001b[0m: 'HartiganOnline' object has no attribute 'cluster_centers_'"
     ]
    }
   ],
   "source": [
    "centroids = quantizer.centroids()"
   ]
  },
  {
   "cell_type": "code",
   "execution_count": 15,
   "metadata": {
    "collapsed": true
   },
   "outputs": [],
   "source": [
    "h = hartigan.HartiganOnline(n_clusters=128)\n",
    "g = data_gen()\n",
    "for (d,f) in g:\n",
    "    print d.shape\n",
    "    h.partial_fit(d)\n"
   ]
  },
  {
   "cell_type": "code",
   "execution_count": null,
   "metadata": {
    "collapsed": false
   },
   "outputs": [],
   "source": [
    "g = data_gen()\n",
    "g.next()"
   ]
  },
  {
   "cell_type": "markdown",
   "metadata": {},
   "source": [
    "# Data Overview & Exploration"
   ]
  },
  {
   "cell_type": "code",
   "execution_count": 356,
   "metadata": {
    "collapsed": false,
    "scrolled": true
   },
   "outputs": [
    {
     "data": {
      "text/plain": [
       "0"
      ]
     },
     "execution_count": 356,
     "metadata": {},
     "output_type": "execute_result"
    }
   ],
   "source": [
    "len(errorfiles)"
   ]
  },
  {
   "cell_type": "code",
   "execution_count": 36,
   "metadata": {
    "collapsed": true
   },
   "outputs": [],
   "source": [
    "import random\n",
    "def random_audio_file():\n",
    "    fold = random.choice(os.listdir(data_dir))\n",
    "    fname = random.choice(os.listdir(os.path.join(data_dir, fold)))\n",
    "    return os.path.join(data_dir, fold, fname)\n",
    "    "
   ]
  },
  {
   "cell_type": "code",
   "execution_count": 14,
   "metadata": {
    "collapsed": false,
    "scrolled": true
   },
   "outputs": [
    {
     "name": "stderr",
     "output_type": "stream",
     "text": [
      "Exception RuntimeError: 'generator ignored GeneratorExit' in <generator object data_gen at 0x7f74aa2f5780> ignored\n",
      "/usr/lib/python2.7/dist-packages/scipy/io/wavfile.py:42: WavFileWarning: Unknown wave file format\n",
      "  warnings.warn(\"Unknown wave file format\", WavFileWarning)\n"
     ]
    },
    {
     "data": {
      "text/plain": [
       "[<matplotlib.lines.Line2D at 0x7f74aa272550>]"
      ]
     },
     "execution_count": 14,
     "metadata": {},
     "output_type": "execute_result"
    },
    {
     "data": {
      "image/png": "[encoded data removed]",
      "text/plain": [
       "<matplotlib.figure.Figure at 0x7f74aa2203d0>"
      ]
     },
     "metadata": {},
     "output_type": "display_data"
    }
   ],
   "source": [
    "# Check data audio volumn range\n",
    "maxs = []\n",
    "mins = []\n",
    "g = data_gen()\n",
    "\n",
    "for w,sr in g:\n",
    "    maxs.append(np.max(w))\n",
    "    mins.append(np.min(w))\n",
    "pl.plot(maxs)\n",
    "pl.plot(mins)"
   ]
  },
  {
   "cell_type": "code",
   "execution_count": 16,
   "metadata": {
    "collapsed": false,
    "scrolled": true
   },
   "outputs": [
    {
     "name": "stdout",
     "output_type": "stream",
     "text": [
      "1 101415-3-0-2.wav\n",
      "1 122690-6-0-0.wav\n",
      "1 162540-1-2-0.wav\n",
      "1 164312-3-1-0.wav\n",
      "1 164312-3-3-0.wav\n",
      "1 175845-1-0-0.wav\n",
      "1 184355-1-0-0.wav\n",
      "1 197073-3-0-0.wav\n",
      "1 197073-3-3-0.wav\n",
      "1 197318-6-3-0.wav\n",
      "1 197318-6-4-0.wav\n",
      "1 197318-6-5-0.wav\n",
      "1 54858-3-2-0.wav\n",
      "1 71087-4-0-0.wav\n",
      "1 88466-7-0-0.wav\n",
      "1 94868-1-2-0.wav\n",
      "2 118723-4-0-0.wav\n",
      "2 155129-1-0-0.wav\n",
      "2 155129-1-1-0.wav\n",
      "2 155234-1-0-0.wav\n",
      "2 158607-3-1-0.wav\n",
      "2 162541-1-0-0.wav\n",
      "2 162541-1-2-0.wav\n",
      "2 165775-7-0-0.wav\n",
      "2 197320-6-12-0.wav\n",
      "2 197320-6-5-0.wav\n",
      "2 23131-3-0-0.wav\n",
      "2 23131-3-2-0.wav\n",
      "2 23131-3-4-0.wav\n",
      "2 71080-4-0-0.wav\n",
      "2 71080-4-1-0.wav\n",
      "3 118070-1-0-0.wav\n",
      "3 128030-3-0-0.wav\n",
      "3 128030-3-2-0.wav\n",
      "3 144068-5-3-0.wav\n",
      "3 162431-6-1-0.wav\n",
      "3 162431-6-2-0.wav\n",
      "3 162431-6-3-0.wav\n",
      "3 162436-6-0-0.wav\n",
      "3 170015-3-0-0.wav\n",
      "3 179863-1-0-0.wav\n",
      "3 188824-7-10-0.wav\n",
      "3 188824-7-11-0.wav\n",
      "3 188824-7-4-0.wav\n",
      "3 188824-7-8-0.wav\n",
      "4 109711-3-1-0.wav\n",
      "4 121888-3-0-0.wav\n",
      "4 156362-4-1-0.wav\n",
      "4 158977-6-0-0.wav\n",
      "4 162435-6-0-0.wav\n",
      "4 162435-6-1-0.wav\n",
      "4 162435-6-3-0.wav\n",
      "4 187356-1-1-0.wav\n",
      "4 187356-1-6-0.wav\n",
      "4 203956-1-0-0.wav\n",
      "4 81068-5-2-0.wav\n",
      "5 116163-3-1-0.wav\n",
      "5 116163-3-2-0.wav\n",
      "5 159701-6-6-0.wav\n",
      "5 159754-8-1-0.wav\n",
      "5 159754-8-3-0.wav\n",
      "5 162432-6-10-0.wav\n",
      "5 162432-6-14-0.wav\n",
      "5 162432-6-2-0.wav\n",
      "5 162432-6-3-0.wav\n",
      "5 162432-6-4-0.wav\n",
      "5 162432-6-5-0.wav\n",
      "5 162432-6-7-0.wav\n",
      "5 162432-6-8-0.wav\n",
      "5 165774-7-0-0.wav\n",
      "5 165774-7-6-0.wav\n",
      "5 170245-0-0-0.wav\n",
      "5 175849-1-0-0.wav\n",
      "5 178260-7-5-0.wav\n",
      "5 19007-4-0-0.wav\n",
      "5 45256-1-0-0.wav\n",
      "5 71086-4-0-0.wav\n",
      "5 71086-4-1-0.wav\n",
      "5 71086-4-2-0.wav\n",
      "5 71171-4-5-0.wav\n",
      "6 125554-3-0-0.wav\n",
      "6 125574-3-0-0.wav\n",
      "6 133797-6-0-0.wav\n",
      "6 133797-6-1-0.wav\n",
      "6 133797-6-2-0.wav\n",
      "6 143115-1-1-0.wav\n",
      "6 143115-1-2-0.wav\n",
      "6 159702-6-0-0.wav\n",
      "6 159702-6-1-0.wav\n",
      "6 159702-6-3-0.wav\n",
      "6 159702-6-4-0.wav\n",
      "6 159702-6-5-0.wav\n",
      "6 160575-3-1-0.wav\n",
      "6 160575-3-4-0.wav\n",
      "6 161922-3-2-0.wav\n",
      "6 162434-6-0-0.wav\n",
      "6 164311-3-1-0.wav\n",
      "6 175848-1-0-0.wav\n",
      "6 203355-3-0-0.wav\n",
      "6 71079-4-0-0.wav\n",
      "6 71079-4-1-0.wav\n",
      "6 71088-4-2-0.wav\n",
      "7 115411-3-0-0.wav\n",
      "7 115411-3-2-0.wav\n",
      "7 158978-6-0-0.wav\n",
      "7 159705-6-0-0.wav\n",
      "7 159708-6-0-0.wav\n",
      "7 159708-6-1-0.wav\n",
      "7 159708-6-2-0.wav\n",
      "7 159708-6-3-0.wav\n",
      "7 159708-6-6-0.wav\n",
      "7 170243-1-0-0.wav\n",
      "7 34241-1-0-0.wav\n",
      "7 34241-1-1-0.wav\n",
      "7 34871-3-11-0.wav\n",
      "7 34871-3-8-0.wav\n",
      "8 113203-5-2-0.wav\n",
      "8 113203-5-5-0.wav\n",
      "8 113203-5-7-0.wav\n",
      "8 155283-1-1-0.wav\n",
      "8 159706-6-0-0.wav\n",
      "8 162433-6-1-0.wav\n",
      "8 162433-6-4-0.wav\n",
      "8 162433-6-5-0.wav\n",
      "8 168037-4-0-0.wav\n",
      "8 168037-4-10-0.wav\n",
      "8 168037-4-12-0.wav\n",
      "8 168037-4-13-0.wav\n",
      "8 168037-4-2-0.wav\n",
      "8 168037-4-3-0.wav\n",
      "8 168037-4-4-0.wav\n",
      "8 168037-4-5-0.wav\n",
      "8 168037-4-6-0.wav\n",
      "8 168037-4-7-0.wav\n",
      "8 168037-4-8-0.wav\n",
      "8 168037-4-9-0.wav\n",
      "8 175856-1-0-0.wav\n",
      "8 175856-1-2-0.wav\n",
      "8 36429-2-0-13.wav\n",
      "8 36429-2-0-14.wav\n",
      "8 36429-2-0-15.wav\n",
      "8 36429-2-0-18.wav\n",
      "8 36429-2-0-23.wav\n",
      "8 36429-2-0-6.wav\n",
      "8 36429-2-0-7.wav\n",
      "8 42324-4-0-0.wav\n",
      "8 42324-4-1-0.wav\n",
      "8 50668-5-1-0.wav\n",
      "8 50668-5-2-0.wav\n",
      "8 50668-5-4-0.wav\n",
      "8 50668-5-6-0.wav\n",
      "8 50668-5-7-0.wav\n",
      "9 136399-6-3-0.wav\n",
      "9 136399-6-7-0.wav\n",
      "9 136399-6-8-0.wav\n",
      "9 155130-1-0-0.wav\n",
      "9 155130-1-1-0.wav\n",
      "9 159745-8-0-0.wav\n",
      "9 159748-8-1-0.wav\n",
      "9 165567-3-2-0.wav\n",
      "9 175843-1-0-0.wav\n",
      "9 180029-4-1-0.wav\n",
      "9 180029-4-11-0.wav\n",
      "9 180029-4-12-0.wav\n",
      "9 180029-4-13-0.wav\n",
      "9 180029-4-14-0.wav\n",
      "9 180029-4-15-0.wav\n",
      "9 180029-4-20-0.wav\n",
      "9 180029-4-6-0.wav\n",
      "9 180029-4-7-0.wav\n",
      "9 180029-4-8-0.wav\n",
      "9 180029-4-9-0.wav\n",
      "9 180156-1-0-0.wav\n",
      "9 180156-1-6-0.wav\n",
      "9 180156-1-7-0.wav\n",
      "9 180156-1-8-0.wav\n",
      "9 188823-7-3-0.wav\n",
      "9 188823-7-4-0.wav\n",
      "9 188823-7-6-0.wav\n",
      "9 71082-4-0-0.wav\n",
      "9 73168-1-0-0.wav\n",
      "9 73168-1-1-0.wav\n",
      "10 11722-3-0-0.wav\n",
      "10 11722-3-1-0.wav\n",
      "10 141240-5-0-0.wav\n",
      "10 141240-5-1-0.wav\n",
      "10 167750-4-0-0.wav\n",
      "10 167750-4-2-0.wav\n",
      "10 167750-4-3-0.wav\n",
      "10 181624-4-0-0.wav\n",
      "10 181624-4-2-0.wav\n",
      "10 181624-4-5-0.wav\n",
      "10 181624-4-6-0.wav\n",
      "10 181624-4-7-0.wav\n",
      "10 181624-4-8-0.wav\n",
      "10 188813-7-13-0.wav\n",
      "10 188813-7-3-0.wav\n",
      "10 188813-7-4-0.wav\n",
      "10 188813-7-7-0.wav\n",
      "10 188813-7-9-0.wav\n"
     ]
    }
   ],
   "source": [
    "# check audio files that can't be opened\n",
    "len(errorfiles)\n",
    "for fold, fname in errorfiles:\n",
    "    print fold, fname\n",
    "#    sr,w = wv.read(os.path.join(data_dir, 'fold'+str(fold), fname))\n",
    "    "
   ]
  },
  {
   "cell_type": "code",
   "execution_count": 21,
   "metadata": {
    "collapsed": false
   },
   "outputs": [],
   "source": [
    "# try another package\n",
    "errors2 = []\n",
    "\n",
    "for fold, fname in errorfiles[1:]:\n",
    "    try: \n",
    "        sr, sw, w = wavio.readwav(os.path.join(data_dir, 'fold'+str(fold), fname))\n",
    "        print fold, fname\n",
    "    except:\n",
    "        errors2.append((fold, fname))\n",
    "    "
   ]
  },
  {
   "cell_type": "code",
   "execution_count": 19,
   "metadata": {
    "collapsed": false
   },
   "outputs": [
    {
     "data": {
      "text/plain": [
       "199"
      ]
     },
     "execution_count": 19,
     "metadata": {},
     "output_type": "execute_result"
    }
   ],
   "source": [
    "len(errors2)"
   ]
  },
  {
   "cell_type": "code",
   "execution_count": 13,
   "metadata": {
    "collapsed": false
   },
   "outputs": [
    {
     "name": "stdout",
     "output_type": "stream",
     "text": [
      "/home/mzhan/audiosearch/data/UrbanSound8K/audio/fold7\n",
      "/home/mzhan/audiosearch/data/UrbanSound8K/audio/fold5\n",
      "/home/mzhan/audiosearch/data/UrbanSound8K/audio/fold4\n",
      "/home/mzhan/audiosearch/data/UrbanSound8K/audio/fold9\n",
      "/home/mzhan/audiosearch/data/UrbanSound8K/audio/fold1\n",
      "/home/mzhan/audiosearch/data/UrbanSound8K/audio/fold3\n",
      "/home/mzhan/audiosearch/data/UrbanSound8K/audio/fold2\n",
      "/home/mzhan/audiosearch/data/UrbanSound8K/audio/fold10\n",
      "/home/mzhan/audiosearch/data/UrbanSound8K/audio/fold8\n",
      "/home/mzhan/audiosearch/data/UrbanSound8K/audio/fold6\n"
     ]
    }
   ],
   "source": [
    "allfnames = []     # names of all audio files\n",
    "for fold in [f for f in os.listdir(data_dir) if os.path.isdir(os.path.join(data_dir,f))]:\n",
    "    fold_dir = os.path.join(data_dir, fold)\n",
    "    print fold_dir\n",
    "    fnames = os.listdir(fold_dir)   \n",
    "    allfnames += fnames\n",
    "len(allfnames)\n",
    "len(set(allfnames))"
   ]
  }
 ],
 "metadata": {
  "kernelspec": {
   "display_name": "Python 2",
   "language": "python",
   "name": "python2"
  },
  "language_info": {
   "codemirror_mode": {
    "name": "ipython",
    "version": 2
   },
   "file_extension": ".py",
   "mimetype": "text/x-python",
   "name": "python",
   "nbconvert_exporter": "python",
   "pygments_lexer": "ipython2",
   "version": "2.7.6"
  }
 },
 "nbformat": 4,
 "nbformat_minor": 0
}
